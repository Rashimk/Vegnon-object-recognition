{
 "cells": [
  {
   "cell_type": "code",
   "execution_count": 1,
   "metadata": {
    "collapsed": false
   },
   "outputs": [
    {
     "data": {
      "text/plain": [
       "<pyspark.context.SparkContext at 0x10067b590>"
      ]
     },
     "execution_count": 1,
     "metadata": {},
     "output_type": "execute_result"
    }
   ],
   "source": [
    "sc"
   ]
  },
  {
   "cell_type": "code",
   "execution_count": 3,
   "metadata": {
    "collapsed": true
   },
   "outputs": [],
   "source": [
    "from bigdl.nn.layer import *\n",
    "from bigdl.util.common import *\n",
    "from bigdl.optim.optimizer import *\n",
    "import numpy as np\n",
    "import unittest"
   ]
  },
  {
   "cell_type": "code",
   "execution_count": 4,
   "metadata": {
    "collapsed": true
   },
   "outputs": [],
   "source": [
    "resource_path = \"/Users/roshkhadka/Desktop/BigdL_0.2.0/Model_load/google_inception_v3_for_caffe\"\n",
    "proto_txt = os.path.join(resource_path, \"test.prototxt\")\n",
    "model_path = os.path.join(resource_path, \"test.caffemodel\")"
   ]
  },
  {
   "cell_type": "code",
   "execution_count": 6,
   "metadata": {
    "collapsed": false
   },
   "outputs": [
    {
     "name": "stdout",
     "output_type": "stream",
     "text": [
      "/Users/roshkhadka/Desktop/BigdL_0.2.0/Model_load/google_inception_v3_for_caffe/test.prototxt\n",
      "/Users/roshkhadka/Desktop/BigdL_0.2.0/Model_load/google_inception_v3_for_caffe/test.caffemodel\n"
     ]
    }
   ],
   "source": [
    "print proto_txt\n",
    "print model_path"
   ]
  },
  {
   "cell_type": "code",
   "execution_count": null,
   "metadata": {
    "collapsed": true
   },
   "outputs": [],
   "source": [
    "class TestLoadCaffe(unittest.TestCase):\n",
    "\n",
    "    def tearDown(self):\n",
    "        self.sc.stop()\n",
    "\n",
    "    def test_load_caffe(self):\n",
    "        \n",
    "        # test load caffe with match all parameters\n",
    "        resource_path = \"/Users/roshkhadka/Desktop/BigdL_0.2.0/Model_load/google_inception_v3_for_caffe\"\n",
    "        proto_txt = os.path.join(resource_path, \"test.prototxt\")\n",
    "        model_path = os.path.join(resource_path, \"test.caffemodel\")\n",
    "\n",
    "        module = Sequential()\\\n",
    "            .add(SpatialConvolution(3, 4, 2, 2).set_name(\"conv\"))\\\n",
    "            .add(SpatialConvolution(4, 3, 2, 2).set_name(\"conv2\"))\\\n",
    "            .add(Linear(2, 27, with_bias=False).set_name(\"ip\"))\n",
    "\n",
    "        model = Model.load_caffe(module, proto_txt, model_path, bigdl_type=\"float\")\n",
    "\n",
    "        parameters = model.parameters()\n",
    "\n",
    "        conv1_weight = np.array([\n",
    "            0.4156779647, 0.3547672033, 0.1817495823, -0.1393318474,\n",
    "            0.4004031420, 0.0634599924, 0.1571258903, 0.4180541039,\n",
    "            0.3160640597, -0.0705609620, 0.4400904775, 0.1356888413,\n",
    "            0.3336675167, -0.4155709147, 0.3805110455, -0.2870244980,\n",
    "            -0.4660916030, 0.1869867444, 0.1779280305, -0.4752498865,\n",
    "            -0.1661637127, 0.3539937139, -0.4798593223, -0.1620789468,\n",
    "            -0.3706701994, 0.4643850327, -0.4701072574, 0.2113500834,\n",
    "            -0.1643440127, -0.4747982025, -0.1300015152, 0.3333964944,\n",
    "            0.1151610613, -0.4214298427, -0.4075299501, -0.1441932321,\n",
    "            -0.3215276599, 0.4862193465, 0.0050434470, 0.4745523334,\n",
    "            0.3657383919, -0.2879499197, 0.3388324380, 0.3669666648,\n",
    "            -0.4454920888, -0.4200569391, -0.4690187573, -0.4590228796])\\\n",
    "            .astype(\"float\")\\\n",
    "            .reshape((4, 3, 2, 2))\n",
    "\n",
    "        conv1_bias = np.array([0.0458712392, -0.0029324144, -0.0251041390, 0.0052924110])\\\n",
    "            .astype(\"float\")\n",
    "\n",
    "        conv2_weight = np.array([\n",
    "            0.0154178329, 0.0157190431, 0.0033829932, -0.0048461366,\n",
    "            -0.0026736879, 0.0009068546, -0.0020218866, 0.0096962797,\n",
    "            0.0100709666, 0.0152738532, -0.0048784190, -0.0099342400,\n",
    "            -0.0188637581, -0.0053443452, 0.0035097739, -0.0104582068,\n",
    "            0.0212461911, -0.0026065058, 0.0000952507, 0.0113442009,\n",
    "            0.0247142352, 0.0033546593, -0.0127880797, 0.0040104976,\n",
    "            -0.0121186078, 0.0055492506, -0.0097251972, 0.0087026395,\n",
    "            -0.0078147361, 0.0101692677, -0.0027364481, 0.0007095702,\n",
    "            -0.0088762743, 0.0061115879, 0.0048167249, -0.0107875718,\n",
    "            -0.0249741413, -0.0018652071, 0.0028419730, 0.0255292989,\n",
    "            -0.0091862874, 0.0010728909, 0.0009157739, 0.0073709050,\n",
    "            -0.0088602817, -0.0093507599, 0.0070853345, -0.0074293613])\\\n",
    "            .astype(\"float\")\\\n",
    "            .reshape((3, 4, 2, 2))\n",
    "\n",
    "        conv2_bias = np.array([0, 0, 0]).astype(\"float\")\n",
    "\n",
    "        linear_weight = np.array([\n",
    "            0.0189033747, 0.0401176214, 0.0525088012, 0.3013394773,\n",
    "            -0.0363914967, -0.3332226574, -0.2289898694, 0.3278202116,\n",
    "            0.1829113662, 0.1653866768, -0.2218630016, -0.2914664149,\n",
    "            0.0594480336, 0.1987790167, -0.2698714137, -0.2847212255,\n",
    "            0.2896176279, 0.3278110921, -0.2233058512, 0.0355354548,\n",
    "            -0.2735285461, 0.1467721164, -0.1557070315, -0.2237440944,\n",
    "            0.2817622125, -0.0810049772, 0.1050063074, -0.0378594697,\n",
    "            0.2178583443, 0.0811733305, -0.0678446293, 0.0180019736,\n",
    "            -0.0949532837, 0.2528320253, -0.0265761316, -0.0096390843,\n",
    "            -0.2360083759, 0.1942299902, -0.3302336931, -0.2042815089,\n",
    "            -0.3027454615, 0.1254911423, 0.2114857137, 0.0392392874,\n",
    "            0.1668677032, 0.0506658256, 0.1139862537, 0.2874754369,\n",
    "            -0.3273061812, 0.2115428150, -0.2002333999, -0.1621897519,\n",
    "            0.0032395422, 0.2072965205]).astype(\"float\").reshape((27, 2))\n",
    "\n",
    "        self.assertTrue(np.allclose(parameters[\"conv\"][\"weight\"],\n",
    "                                    conv1_weight, atol=1e-6, rtol=0))\n",
    "        self.assertTrue(np.allclose(parameters[\"conv\"][\"bias\"],\n",
    "                                    conv1_bias, atol=1e-6, rtol=0))\n",
    "        self.assertTrue(np.allclose(parameters[\"conv2\"][\"weight\"],\n",
    "                                    conv2_weight, atol=1e-6, rtol=0))\n",
    "        self.assertTrue(np.allclose(parameters[\"conv2\"][\"bias\"],\n",
    "                                    conv2_bias, atol=1e-6, rtol=0))\n",
    "        self.assertTrue(np.allclose(parameters[\"ip\"][\"weight\"],\n",
    "                                    linear_weight, atol=1e-6, rtol=0))\n",
    "\n",
    "        # test load caffe not match all parameters\n",
    "        module = Sequential()\\\n",
    "            .add(SpatialConvolution(3, 4, 2, 2).set_name(\"conv\"))\\\n",
    "            .add(SpatialConvolution(4, 3, 2, 2).set_name(\"conv3\"))\\\n",
    "            .add(Linear(2, 27, with_bias=False).set_name(\"ip\"))\n",
    "\n",
    "        model = Model.load_caffe(module, proto_txt, model_path, match_all=False)\n",
    "\n",
    "        parameters = model.parameters()\n",
    "\n",
    "        self.assertTrue(np.allclose(parameters[\"conv\"][\"weight\"],\n",
    "                                    conv1_weight, atol=1e-6, rtol=0))\n",
    "        self.assertTrue(np.allclose(parameters[\"conv\"][\"bias\"],\n",
    "                                    conv1_bias, atol=1e-6, rtol=0))\n",
    "        self.assertFalse(np.allclose(parameters[\"conv3\"][\"weight\"],\n",
    "                                     conv2_weight, atol=1e-6, rtol=0))\n",
    "        self.assertFalse(np.allclose(parameters[\"conv3\"][\"bias\"],\n",
    "                                     conv2_bias, atol=1e-6, rtol=0))\n",
    "        self.assertTrue(np.allclose(parameters[\"ip\"][\"weight\"],\n",
    "                                    linear_weight, atol=1e-6, rtol=0))"
   ]
  }
 ],
 "metadata": {
  "anaconda-cloud": {},
  "kernelspec": {
   "display_name": "Python [default]",
   "language": "python",
   "name": "python2"
  },
  "language_info": {
   "codemirror_mode": {
    "name": "ipython",
    "version": 2
   },
   "file_extension": ".py",
   "mimetype": "text/x-python",
   "name": "python",
   "nbconvert_exporter": "python",
   "pygments_lexer": "ipython2",
   "version": "2.7.12"
  }
 },
 "nbformat": 4,
 "nbformat_minor": 1
}
